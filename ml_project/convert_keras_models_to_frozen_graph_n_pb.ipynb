{
  "nbformat": 4,
  "nbformat_minor": 0,
  "metadata": {
    "colab": {
      "name": "convert_keras_models_to_frozen_graph_n_pb.ipynb",
      "provenance": [],
      "collapsed_sections": []
    },
    "kernelspec": {
      "name": "python3",
      "display_name": "Python 3"
    },
    "language_info": {
      "name": "python"
    }
  },
  "cells": [
    {
      "cell_type": "code",
      "metadata": {
        "id": "SeuA6YmSOgpv"
      },
      "source": [
        "!git clone https://github.com/d4nst/RotNet.git"
      ],
      "execution_count": null,
      "outputs": []
    },
    {
      "cell_type": "code",
      "metadata": {
        "id": "EGArPugPTRYu"
      },
      "source": [
        "from google.colab import files\n",
        "\n",
        "print('Upload RotNet barcode models you want to convert to TFLite:')\n",
        "uploaded = files.upload()\n",
        "\n",
        "for fn in uploaded.keys():\n",
        "  print('User uploaded model file \"{name}\" with length {length} bytes'.format(\n",
        "      name=fn, length=len(uploaded[fn])))"
      ],
      "execution_count": null,
      "outputs": []
    },
    {
      "cell_type": "code",
      "metadata": {
        "id": "w29yS9yFOqR9"
      },
      "source": [
        "%cd RotNet"
      ],
      "execution_count": null,
      "outputs": []
    },
    {
      "cell_type": "code",
      "metadata": {
        "id": "dikBRfva5eO2"
      },
      "source": [
        "from tensorflow import keras\n",
        "import tensorflow as tf\n",
        "from tensorflow.python.framework.convert_to_constants import convert_variables_to_constants_v2\n",
        "import numpy as np\n",
        "from utils import angle_error\n",
        "\n",
        "\n",
        "model = keras.models.load_model('/content/rotnet_barcode_view_resnet50_v2.hdf5',  # replace with your model name\n",
        "                                custom_objects={'angle_error': angle_error})\n",
        "\n",
        "# Convert Keras model to ConcreteFunction\n",
        "full_model = tf.function(lambda x: model(x))\n",
        "full_model = full_model.get_concrete_function(\n",
        "    x=tf.TensorSpec(model.inputs[0].shape, model.inputs[0].dtype))\n",
        "\n",
        "# Get frozen ConcreteFunction\n",
        "frozen_func = convert_variables_to_constants_v2(full_model)\n",
        "frozen_func.graph.as_graph_def()\n",
        "\n",
        "# inspect the layers operations inside your frozen graph definition and see the name of its input and output tensors\n",
        "layers = [op.name for op in frozen_func.graph.get_operations()]\n",
        "print(\"-\" * 50)\n",
        "print(\"Frozen model layers: \")\n",
        "for layer in layers:\n",
        "    print(layer)\n",
        "\n",
        "print(\"-\" * 50)\n",
        "print(\"Frozen model inputs: \")\n",
        "print(frozen_func.inputs)\n",
        "print(\"Frozen model outputs: \")\n",
        "print(frozen_func.outputs)\n",
        "\n",
        "# Save frozen graph from frozen ConcreteFunction to hard drive\n",
        "# serialize the frozen graph and its text representation to disk.\n",
        "tf.io.write_graph(graph_or_graph_def=frozen_func.graph,\n",
        "                  logdir=\"./frozen_models\",\n",
        "                  name=\"rotnet_barcode_frozen_graph.pb\",\n",
        "                  as_text=False)\n",
        "\n",
        "#Optional\n",
        "tf.io.write_graph(graph_or_graph_def=frozen_func.graph,\n",
        "                  logdir=\"./frozen_models\",\n",
        "                  name=\"rotnet_barcode_frozen_graph.pbtxt\",\n",
        "                  as_text=True)"
      ],
      "execution_count": null,
      "outputs": []
    },
    {
      "cell_type": "code",
      "metadata": {
        "id": "vVr-Bj_QPUM6"
      },
      "source": [
        "import tensorflow as tf\n",
        "from utils import angle_error\n",
        "\n",
        "model = tf.keras.models.load_model('/content/rotnet_barcode_view_resnet50_v2.hdf5', custom_objects={'angle_error':angle_error})\n",
        "tf.saved_model.save(model, \"models\")\n",
        "print(\"successfully saved keras model file to tensorflow model file\")"
      ],
      "execution_count": null,
      "outputs": []
    },
    {
      "cell_type": "markdown",
      "metadata": {
        "id": "5HMhgPHv7BXn"
      },
      "source": [
        "\n",
        "\n",
        "---\n",
        "\n"
      ]
    },
    {
      "cell_type": "markdown",
      "metadata": {
        "id": "R9XkOFot6b-9"
      },
      "source": [
        "Inspect models directory"
      ]
    },
    {
      "cell_type": "code",
      "metadata": {
        "id": "MK1K5DY-P1vq"
      },
      "source": [
        "!ls -l models"
      ],
      "execution_count": null,
      "outputs": []
    },
    {
      "cell_type": "markdown",
      "metadata": {
        "id": "P1jCaCX76m5k"
      },
      "source": [
        "Inspect frozen_models directory"
      ]
    },
    {
      "cell_type": "code",
      "metadata": {
        "id": "4z2URyc251F_"
      },
      "source": [
        "!ls -l frozen_models"
      ],
      "execution_count": null,
      "outputs": []
    },
    {
      "cell_type": "markdown",
      "metadata": {
        "id": "uWJzLuU-6rbO"
      },
      "source": [
        "zip folder for download purpose"
      ]
    },
    {
      "cell_type": "code",
      "metadata": {
        "id": "UIhJO9vaQEfa"
      },
      "source": [
        "!zip -r /content/frozen_models.zip /content/RotNet/frozen_models\n",
        "!zip -r /content/saved_models.zip /content/RotNet/models"
      ],
      "execution_count": null,
      "outputs": []
    },
    {
      "cell_type": "markdown",
      "metadata": {
        "id": "3sXC3OxI6xuQ"
      },
      "source": [
        "Download the zipped model"
      ]
    },
    {
      "cell_type": "code",
      "metadata": {
        "id": "UX_ZDwniQRFw"
      },
      "source": [
        "from google.colab import files\n",
        "\n",
        "files.download(\"/content/frozen_models.zip\")\n",
        "files.download(\"/content/saved_models.zip\")"
      ],
      "execution_count": null,
      "outputs": []
    }
  ]
}